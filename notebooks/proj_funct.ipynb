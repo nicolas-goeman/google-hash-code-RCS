{
 "cells": [
  {
   "cell_type": "code",
   "execution_count": 12,
   "id": "8b75ecd7",
   "metadata": {},
   "outputs": [],
   "source": [
    "import numpy as np\n",
    "import pandas as pd\n",
    "from math import nan, isnan\n",
    "data=pd.read_table(r'C:\\Users\\Riccardo\\Desktop\\Erasmus Lille\\Refresher in Computer Science\\Final Project\\google-hash-code-RCS\\data\\input_data_1.txt',header=None,delimiter=\" \").to_numpy()\n",
    "days=data[0][0]\n",
    "G=data[0][1]\n",
    "S=data[0][2]\n",
    "B=data[0][3]\n",
    "F=data[0][4]\n",
    "b_time=data[0][5]\n",
    "services_binary=[]\n",
    "for i in range(1,int(S)+1):\n",
    "    si=data[i][0]\n",
    "    binary_running=data[i][1]\n",
    "    services_binary+=(si,int(binary_running))\n",
    "it = iter(services_binary)\n",
    "services_binary = dict(zip(it, it))\n",
    "services_binary\n",
    "feature_descr=[]\n",
    "for i in range(int(S)+1,len(data),2):\n",
    "    names=data[i][0]\n",
    "    number_of_services_implemented=data[i][1]\n",
    "    difficulty=data[i][2]\n",
    "    user_that_benefit=data[i][3]\n",
    "    names_of_services_implemented=data[i+1][:int(number_of_services_implemented)]\n",
    "    feature_descr+=(names,int(number_of_services_implemented),int(difficulty),int(user_that_benefit),names_of_services_implemented)"
   ]
  },
  {
   "cell_type": "code",
   "execution_count": 11,
   "id": "1341c786",
   "metadata": {},
   "outputs": [
    {
     "data": {
      "text/plain": [
       "{'sa': 1, 'sb': 2, 'sc': 1, 'sd': 2, 'se': 0}"
      ]
     },
     "execution_count": 11,
     "metadata": {},
     "output_type": "execute_result"
    }
   ],
   "source": [
    "services_binary"
   ]
  },
  {
   "cell_type": "code",
   "execution_count": 13,
   "id": "eb5eb769",
   "metadata": {},
   "outputs": [
    {
     "data": {
      "text/plain": [
       "['foo',\n",
       " 3,\n",
       " 3,\n",
       " 100,\n",
       " array(['sc', 'sb', 'sd'], dtype=object),\n",
       " 'bar',\n",
       " 2,\n",
       " 1,\n",
       " 20,\n",
       " array(['sc', 'sa'], dtype=object)]"
      ]
     },
     "execution_count": 13,
     "metadata": {},
     "output_type": "execute_result"
    }
   ],
   "source": [
    "feature_descr"
   ]
  }
 ],
 "metadata": {
  "kernelspec": {
   "display_name": "Python 3 (ipykernel)",
   "language": "python",
   "name": "python3"
  },
  "language_info": {
   "codemirror_mode": {
    "name": "ipython",
    "version": 3
   },
   "file_extension": ".py",
   "mimetype": "text/x-python",
   "name": "python",
   "nbconvert_exporter": "python",
   "pygments_lexer": "ipython3",
   "version": "3.9.12"
  }
 },
 "nbformat": 4,
 "nbformat_minor": 5
}
