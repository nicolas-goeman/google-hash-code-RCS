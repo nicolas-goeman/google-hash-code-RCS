{
 "cells": [
  {
   "cell_type": "code",
   "execution_count": 1,
   "id": "8b75ecd7",
   "metadata": {},
   "outputs": [
    {
     "data": {
      "text/plain": [
       "array([['10', '2', '5', 3.0, 2.0, 5.0],\n",
       "       ['sa', '1', nan, nan, nan, nan],\n",
       "       ['sb', '2', nan, nan, nan, nan],\n",
       "       ['sc', '1', nan, nan, nan, nan],\n",
       "       ['sd', '2', nan, nan, nan, nan],\n",
       "       ['se', '0', nan, nan, nan, nan],\n",
       "       ['foo', '3', '3', 100.0, nan, nan],\n",
       "       ['sc', 'sb', 'sd', nan, nan, nan],\n",
       "       ['bar', '2', '1', 20.0, nan, nan],\n",
       "       ['sc', 'sa', nan, nan, nan, nan]], dtype=object)"
      ]
     },
     "execution_count": 1,
     "metadata": {},
     "output_type": "execute_result"
    }
   ],
   "source": [
    "import numpy as np\n",
    "import pandas as pd\n",
    "data=pd.read_table('../data/input_data_1.txt',header=None,delimiter=\" \").to_numpy()\n",
    "data"
   ]
  },
  {
   "cell_type": "code",
   "execution_count": 2,
   "id": "4c53e4f7",
   "metadata": {},
   "outputs": [],
   "source": [
    "n_days = int(data[0][0])\n",
    "n_engineers = int(data[0][1])\n",
    "n_services = int(data[0][2])\n",
    "n_binaries = int(data[0][3])\n",
    "n_features = int(data[0][4])\n",
    "n_days_binary = int(data[0][5])\n",
    "\n",
    "general_params = dict(zip(\n",
    "    ['n_days', 'n_engineers', 'n_services', 'n_binaries', 'n_features', 'n_days_binary'],\n",
    "    [n_days, n_engineers, n_services, n_binaries, n_features, n_days_binary]\n",
    "))\n",
    "services_binary = dict(zip(data[1:n_services+1, 0], data[1:n_services+1, 1].astype(int)))"
   ]
  },
  {
   "cell_type": "code",
   "execution_count": 3,
   "id": "e718d6e0",
   "metadata": {},
   "outputs": [
    {
     "data": {
      "text/plain": [
       "{'n_days': 10,\n",
       " 'n_engineers': 2,\n",
       " 'n_services': 5,\n",
       " 'n_binaries': 3,\n",
       " 'n_features': 2,\n",
       " 'n_days_binary': 5}"
      ]
     },
     "execution_count": 3,
     "metadata": {},
     "output_type": "execute_result"
    }
   ],
   "source": [
    "general_params"
   ]
  },
  {
   "cell_type": "code",
   "execution_count": 4,
   "id": "303e5363",
   "metadata": {},
   "outputs": [
    {
     "data": {
      "text/plain": [
       "{'sa': 1, 'sb': 2, 'sc': 1, 'sd': 2, 'se': 0}"
      ]
     },
     "execution_count": 4,
     "metadata": {},
     "output_type": "execute_result"
    }
   ],
   "source": [
    "services_binary"
   ]
  },
  {
   "cell_type": "code",
   "execution_count": 5,
   "id": "36017fd0",
   "metadata": {},
   "outputs": [],
   "source": [
    "feature_descr={}\n",
    "for i in range(n_services+1,len(data),2):\n",
    "    params = {}\n",
    "    names=data[i][0]\n",
    "    params['n_ser_imp'] = int(data[i][1])\n",
    "    params['difficulty'] = int(data[i][2])\n",
    "    params['users'] = int(data[i][3])\n",
    "    params['names_ser'] = data[i+1,:params['n_ser_imp']]\n",
    "    feature_descr[data[i, 0]] = params"
   ]
  },
  {
   "cell_type": "code",
   "execution_count": 6,
   "id": "eb5eb769",
   "metadata": {},
   "outputs": [
    {
     "data": {
      "text/plain": [
       "{'foo': {'n_ser_imp': 3,\n",
       "  'difficulty': 3,\n",
       "  'users': 100,\n",
       "  'names_ser': array(['sc', 'sb', 'sd'], dtype=object)},\n",
       " 'bar': {'n_ser_imp': 2,\n",
       "  'difficulty': 1,\n",
       "  'users': 20,\n",
       "  'names_ser': array(['sc', 'sa'], dtype=object)}}"
      ]
     },
     "execution_count": 6,
     "metadata": {},
     "output_type": "execute_result"
    }
   ],
   "source": [
    "feature_descr"
   ]
  },
  {
   "cell_type": "code",
   "execution_count": 7,
   "id": "a139c73c",
   "metadata": {},
   "outputs": [],
   "source": [
    "from google_hash_code_rcs.classes import Binary "
   ]
  },
  {
   "cell_type": "code",
   "execution_count": 8,
   "id": "dccaac1a",
   "metadata": {},
   "outputs": [],
   "source": [
    "dict_binaries = {'n_bin_c': 0}\n",
    "for i in range(general_params['n_binaries']):\n",
    "    dict_binaries[i] = Binary(id=i)\n",
    "    dict_binaries['n_bin_c']+=1"
   ]
  },
  {
   "cell_type": "code",
   "execution_count": 9,
   "id": "2936fafa",
   "metadata": {},
   "outputs": [
    {
     "data": {
      "text/plain": [
       "{'n_bin_c': 3,\n",
       " 0: <google_hash_code_rcs.classes.Binary at 0x28258125340>,\n",
       " 1: <google_hash_code_rcs.classes.Binary at 0x28258125940>,\n",
       " 2: <google_hash_code_rcs.classes.Binary at 0x28258125880>}"
      ]
     },
     "execution_count": 9,
     "metadata": {},
     "output_type": "execute_result"
    }
   ],
   "source": [
    "dict_binaries"
   ]
  },
  {
   "cell_type": "code",
   "execution_count": 10,
   "id": "de5a7184",
   "metadata": {},
   "outputs": [],
   "source": [
    "from google_hash_code_rcs.classes import Service\n",
    "\n",
    "dict_services = {}\n",
    "\n",
    "for key, value in services_binary.items():\n",
    "    s=Service(key, value)\n",
    "    dict_services[key] = s\n",
    "    dict_binaries[value].add_service(s)"
   ]
  },
  {
   "cell_type": "code",
   "execution_count": 11,
   "id": "8e76291c",
   "metadata": {},
   "outputs": [
    {
     "data": {
      "text/plain": [
       "{'sa': <google_hash_code_rcs.classes.Service at 0x28258125a00>,\n",
       " 'sb': <google_hash_code_rcs.classes.Service at 0x28258125040>,\n",
       " 'sc': <google_hash_code_rcs.classes.Service at 0x282581253a0>,\n",
       " 'sd': <google_hash_code_rcs.classes.Service at 0x28258125b80>,\n",
       " 'se': <google_hash_code_rcs.classes.Service at 0x28258125a30>}"
      ]
     },
     "execution_count": 11,
     "metadata": {},
     "output_type": "execute_result"
    }
   ],
   "source": [
    "dict_services"
   ]
  },
  {
   "cell_type": "code",
   "execution_count": 12,
   "id": "4bbdf3b9",
   "metadata": {},
   "outputs": [
    {
     "name": "stdout",
     "output_type": "stream",
     "text": [
      "[<google_hash_code_rcs.classes.Feature object at 0x00000282580DBC40>]\n",
      "[<google_hash_code_rcs.classes.Feature object at 0x00000282580DBC40>]\n",
      "[<google_hash_code_rcs.classes.Feature object at 0x00000282580DBC40>]\n",
      "[<google_hash_code_rcs.classes.Feature object at 0x00000282580DBC40>, <google_hash_code_rcs.classes.Feature object at 0x0000028238343250>]\n",
      "[<google_hash_code_rcs.classes.Feature object at 0x0000028238343250>]\n"
     ]
    }
   ],
   "source": [
    "from google_hash_code_rcs.classes import Feature\n",
    "\n",
    "dict_features = {}\n",
    "\n",
    "for key, value in feature_descr.items():\n",
    "    services = [dict_services[name_ser] for name_ser in value['names_ser']]\n",
    "    f = Feature(services, users=value['users'], difficulty=value['difficulty'])\n",
    "    dict_features[key] = f"
   ]
  },
  {
   "cell_type": "code",
   "execution_count": 13,
   "id": "329804f0",
   "metadata": {},
   "outputs": [
    {
     "data": {
      "text/plain": [
       "{'foo': <google_hash_code_rcs.classes.Feature at 0x282580dbc40>,\n",
       " 'bar': <google_hash_code_rcs.classes.Feature at 0x28238343250>}"
      ]
     },
     "execution_count": 13,
     "metadata": {},
     "output_type": "execute_result"
    }
   ],
   "source": [
    "dict_features"
   ]
  },
  {
   "cell_type": "code",
   "execution_count": 14,
   "id": "5d6f8c50",
   "metadata": {},
   "outputs": [
    {
     "name": "stdout",
     "output_type": "stream",
     "text": [
      "sa [<google_hash_code_rcs.classes.Feature object at 0x0000028238343250>]\n",
      "sb [<google_hash_code_rcs.classes.Feature object at 0x00000282580DBC40>]\n",
      "sc [<google_hash_code_rcs.classes.Feature object at 0x00000282580DBC40>, <google_hash_code_rcs.classes.Feature object at 0x0000028238343250>]\n",
      "sd [<google_hash_code_rcs.classes.Feature object at 0x00000282580DBC40>]\n",
      "se []\n"
     ]
    }
   ],
   "source": [
    "for key, value in dict_services.items():\n",
    "    print(key, value.features) "
   ]
  },
  {
   "cell_type": "code",
   "execution_count": null,
   "id": "dc55ddae",
   "metadata": {},
   "outputs": [],
   "source": []
  }
 ],
 "metadata": {
  "kernelspec": {
   "display_name": "Python 3.9.7 ('google-hash-code-rcs-IZ_z8aH6-py3.9')",
   "language": "python",
   "name": "python3"
  },
  "language_info": {
   "codemirror_mode": {
    "name": "ipython",
    "version": 3
   },
   "file_extension": ".py",
   "mimetype": "text/x-python",
   "name": "python",
   "nbconvert_exporter": "python",
   "pygments_lexer": "ipython3",
   "version": "3.9.7"
  },
  "vscode": {
   "interpreter": {
    "hash": "538fd4a0a81ecfdc2064d0fb2a319aa2b8375eaa5001de38cf310e2d132239af"
   }
  }
 },
 "nbformat": 4,
 "nbformat_minor": 5
}
